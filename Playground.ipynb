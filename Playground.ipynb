{
 "cells": [
  {
   "cell_type": "code",
   "execution_count": 61,
   "metadata": {},
   "outputs": [],
   "source": [
    "import numpy as np \n",
    "from np_apply_multiprocess import multiprocess_map, create_share_mem_array\n",
    "\n",
    "def assign_position(in_element, plus_number = 1):\n",
    "    element = in_element.copy()\n",
    "    element += plus_number\n",
    "    for i in range(2000):\n",
    "        element[0] = (element[0] + element[1] + element[2]) / 100\n",
    "        element[1] = (element[0] + element[2]) / 100\n",
    "    return element"
   ]
  },
  {
   "cell_type": "code",
   "execution_count": 62,
   "metadata": {},
   "outputs": [],
   "source": [
    "input_a = np.ones((1000,4))"
   ]
  },
  {
   "cell_type": "code",
   "execution_count": 63,
   "metadata": {},
   "outputs": [
    {
     "name": "stdout",
     "output_type": "stream",
     "text": [
      "17.4 s ± 0 ns per loop (mean ± std. dev. of 1 run, 1 loop each)\n"
     ]
    }
   ],
   "source": [
    "%%timeit -r 1\n",
    "ans_single_cpu = np.apply_along_axis(assign_position, 1, input_a, plus_number = 1)"
   ]
  },
  {
   "cell_type": "code",
   "execution_count": 64,
   "metadata": {},
   "outputs": [
    {
     "name": "stdout",
     "output_type": "stream",
     "text": [
      "41 s ± 0 ns per loop (mean ± std. dev. of 1 run, 1 loop each)\n"
     ]
    }
   ],
   "source": [
    "%%timeit -r 1\n",
    "ans_multi_cpu = multiprocess_map(assign_position, input_a, plus_number = 1)"
   ]
  },
  {
   "cell_type": "code",
   "execution_count": 13,
   "metadata": {},
   "outputs": [
    {
     "ename": "ModuleNotFoundError",
     "evalue": "No module named 'sharedmem'",
     "output_type": "error",
     "traceback": [
      "\u001b[0;31m---------------------------------------------------------------------------\u001b[0m",
      "\u001b[0;31mModuleNotFoundError\u001b[0m                       Traceback (most recent call last)",
      "\u001b[0;32m<ipython-input-13-1e3fd1f50843>\u001b[0m in \u001b[0;36m<module>\u001b[0;34m\u001b[0m\n\u001b[0;32m----> 1\u001b[0;31m \u001b[0;32mimport\u001b[0m \u001b[0msharedmem\u001b[0m\u001b[0;34m\u001b[0m\u001b[0;34m\u001b[0m\u001b[0m\n\u001b[0m",
      "\u001b[0;31mModuleNotFoundError\u001b[0m: No module named 'sharedmem'"
     ]
    }
   ],
   "source": [
    "import sharedmem"
   ]
  },
  {
   "cell_type": "code",
   "execution_count": 14,
   "metadata": {
    "collapsed": true,
    "jupyter": {
     "outputs_hidden": true
    }
   },
   "outputs": [
    {
     "name": "stdout",
     "output_type": "stream",
     "text": [
      "\u001b[33mWARNING: Ignoring invalid distribution -andas (/home/ai/.pyenv/versions/3.7.9/lib/python3.7/site-packages)\u001b[0m\n",
      "\u001b[33mWARNING: Ignoring invalid distribution -andas (/home/ai/.pyenv/versions/3.7.9/lib/python3.7/site-packages)\u001b[0m\n",
      "Collecting sharedmem\n",
      "  Downloading sharedmem-0.3.8.tar.gz (17 kB)\n",
      "Requirement already satisfied: numpy in /home/ai/.pyenv/versions/3.7.9/lib/python3.7/site-packages (from sharedmem) (1.18.5)\n",
      "Building wheels for collected packages: sharedmem\n",
      "  Building wheel for sharedmem (setup.py) ... \u001b[?25ldone\n",
      "\u001b[?25h  Created wheel for sharedmem: filename=sharedmem-0.3.8-py3-none-any.whl size=18342 sha256=77a35a1040146a618cd99e75d9e405130c41510f0c96368cf71cac74b7cc1151\n",
      "  Stored in directory: /home/ai/.cache/pip/wheels/d9/de/55/a6337e56b4c52d595162509a4f22d883c5d332dd6510f52db1\n",
      "Successfully built sharedmem\n",
      "\u001b[33mWARNING: Ignoring invalid distribution -andas (/home/ai/.pyenv/versions/3.7.9/lib/python3.7/site-packages)\u001b[0m\n",
      "Installing collected packages: sharedmem\n",
      "\u001b[33mWARNING: Ignoring invalid distribution -andas (/home/ai/.pyenv/versions/3.7.9/lib/python3.7/site-packages)\u001b[0m\n",
      "Successfully installed sharedmem-0.3.8\n",
      "\u001b[33mWARNING: Ignoring invalid distribution -andas (/home/ai/.pyenv/versions/3.7.9/lib/python3.7/site-packages)\u001b[0m\n",
      "\u001b[33mWARNING: Ignoring invalid distribution -andas (/home/ai/.pyenv/versions/3.7.9/lib/python3.7/site-packages)\u001b[0m\n"
     ]
    }
   ],
   "source": [
    "!pip install sharedmem"
   ]
  },
  {
   "cell_type": "code",
   "execution_count": 15,
   "metadata": {},
   "outputs": [],
   "source": [
    "import sharedmem"
   ]
  },
  {
   "cell_type": "code",
   "execution_count": 45,
   "metadata": {},
   "outputs": [],
   "source": [
    "xdx = sharedmem.empty(input_a.shape, dtype=input_a.dtype)\n"
   ]
  },
  {
   "cell_type": "code",
   "execution_count": 46,
   "metadata": {},
   "outputs": [],
   "source": [
    "xdx[:] = input_a[:]"
   ]
  },
  {
   "cell_type": "code",
   "execution_count": 48,
   "metadata": {},
   "outputs": [
    {
     "data": {
      "text/plain": [
       "sharedmem.sharedmem.anonymousmemmap"
      ]
     },
     "execution_count": 48,
     "metadata": {},
     "output_type": "execute_result"
    }
   ],
   "source": [
    "type(xdx)"
   ]
  },
  {
   "cell_type": "code",
   "execution_count": 37,
   "metadata": {},
   "outputs": [
    {
     "data": {
      "text/plain": [
       "22"
      ]
     },
     "execution_count": 37,
     "metadata": {},
     "output_type": "execute_result"
    }
   ],
   "source": [
    "import gc\n",
    "gc.collect()"
   ]
  },
  {
   "cell_type": "code",
   "execution_count": 39,
   "metadata": {},
   "outputs": [
    {
     "data": {
      "text/plain": [
       "numpy.ndarray"
      ]
     },
     "execution_count": 39,
     "metadata": {},
     "output_type": "execute_result"
    }
   ],
   "source": [
    "type(xdx)"
   ]
  },
  {
   "cell_type": "code",
   "execution_count": null,
   "metadata": {},
   "outputs": [],
   "source": []
  }
 ],
 "metadata": {
  "kernelspec": {
   "display_name": "Python 3",
   "language": "python",
   "name": "python3"
  },
  "language_info": {
   "codemirror_mode": {
    "name": "ipython",
    "version": 3
   },
   "file_extension": ".py",
   "mimetype": "text/x-python",
   "name": "python",
   "nbconvert_exporter": "python",
   "pygments_lexer": "ipython3",
   "version": "3.7.9"
  }
 },
 "nbformat": 4,
 "nbformat_minor": 4
}
