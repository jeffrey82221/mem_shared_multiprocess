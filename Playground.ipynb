{
 "cells": [
  {
   "cell_type": "code",
   "execution_count": null,
   "metadata": {},
   "outputs": [],
   "source": [
    "!pip install memmap"
   ]
  },
  {
   "cell_type": "code",
   "execution_count": null,
   "metadata": {},
   "outputs": [],
   "source": [
    "import memmap"
   ]
  },
  {
   "cell_type": "code",
   "execution_count": null,
   "metadata": {},
   "outputs": [],
   "source": [
    "!pip install mmap"
   ]
  },
  {
   "cell_type": "code",
   "execution_count": null,
   "metadata": {},
   "outputs": [],
   "source": [
    "import mmap"
   ]
  },
  {
   "cell_type": "code",
   "execution_count": null,
   "metadata": {},
   "outputs": [],
   "source": [
    "def mmap_io(filename):\n",
    "    with open(filename, mode=\"r\", encoding=\"utf8\") as file_obj:\n",
    "        with mmap.mmap(file_obj.fileno(), length=0, access=mmap.ACCESS_READ) as mmap_obj:\n",
    "            text = mmap_obj.read()\n",
    "            print(text)"
   ]
  },
  {
   "cell_type": "code",
   "execution_count": null,
   "metadata": {},
   "outputs": [],
   "source": [
    "file_obj = open('test.txt', mode=\"r\", encoding=\"utf8\")"
   ]
  },
  {
   "cell_type": "code",
   "execution_count": null,
   "metadata": {},
   "outputs": [],
   "source": [
    "file_obj.fileno()"
   ]
  },
  {
   "cell_type": "code",
   "execution_count": null,
   "metadata": {},
   "outputs": [],
   "source": [
    "mmap_io('test.txt')"
   ]
  },
  {
   "cell_type": "code",
   "execution_count": null,
   "metadata": {},
   "outputs": [],
   "source": [
    "import mmap\n",
    "\n",
    "mmap_obj = mmap.mmap(-1, length=100, access=mmap.ACCESS_WRITE)\n",
    "mmap_obj[0:100] = b\"a\" * 100\n",
    "print(mmap_obj[0:100])"
   ]
  },
  {
   "cell_type": "code",
   "execution_count": null,
   "metadata": {},
   "outputs": [],
   "source": [
    "print(mmap_obj[:])"
   ]
  },
  {
   "cell_type": "code",
   "execution_count": null,
   "metadata": {},
   "outputs": [],
   "source": [
    "import mmap\n",
    "import time\n",
    "import os\n",
    "def sharing_without_mmap():\n",
    "    BUF = 'oooooooooo'\n",
    "    pid = os.fork()\n",
    "    if pid == 0:\n",
    "        # Child process\n",
    "        BUF[0:10] = b\"a\" * 10\n",
    "        print('In child:', BUF)\n",
    "    else:\n",
    "        time.sleep(2)\n",
    "        print('In parent', BUF)"
   ]
  },
  {
   "cell_type": "code",
   "execution_count": null,
   "metadata": {},
   "outputs": [],
   "source": [
    "sharing_without_mmap()"
   ]
  },
  {
   "cell_type": "code",
   "execution_count": null,
   "metadata": {},
   "outputs": [],
   "source": [
    "import mmap\n",
    "import time\n",
    "import os\n",
    "def sharing_with_mmap():\n",
    "    BUF = mmap.mmap(-1, length=100, access=mmap.ACCESS_WRITE)\n",
    "    pid = os.fork()\n",
    "    if pid == 0:\n",
    "        # Child process\n",
    "        BUF[0:100] = b\"a\" * 100\n",
    "    else:\n",
    "        time.sleep(2)\n",
    "        print(BUF[0:100])"
   ]
  },
  {
   "cell_type": "code",
   "execution_count": null,
   "metadata": {},
   "outputs": [],
   "source": [
    "sharing_with_mmap()"
   ]
  },
  {
   "cell_type": "markdown",
   "metadata": {},
   "source": [
    "## change mmap to numpy memmap "
   ]
  },
  {
   "cell_type": "code",
   "execution_count": 1,
   "metadata": {},
   "outputs": [
    {
     "name": "stdout",
     "output_type": "stream",
     "text": [
      "[[1. 1. 1. 1.]\n",
      " [1. 1. 1. 1.]\n",
      " [1. 1. 1. 1.]]\n"
     ]
    }
   ],
   "source": [
    "from tempfile import mkdtemp\n",
    "import mmap\n",
    "import time\n",
    "import os\n",
    "import os.path as path\n",
    "import numpy as np \n",
    "\n",
    "def sharing_with_mmap(shared_mmap):\n",
    "    pid = os.fork()\n",
    "    if pid == 0:\n",
    "        # Child process\n",
    "        shared_mmap += 1\n",
    "    else:\n",
    "        time.sleep(2)\n",
    "        print(shared_mmap)\n",
    "filename = path.join(mkdtemp(), 'newfile.dat')\n",
    "fp = np.memmap(filename, dtype='float32', mode='w+', shape=(3,4))\n",
    "sharing_with_mmap(fp)"
   ]
  },
  {
   "cell_type": "markdown",
   "metadata": {},
   "source": []
  },
  {
   "cell_type": "code",
   "execution_count": 2,
   "metadata": {},
   "outputs": [],
   "source": [
    "def assign_position(i, mmap):\n",
    "    mmap[i] = i"
   ]
  },
  {
   "cell_type": "code",
   "execution_count": 3,
   "metadata": {},
   "outputs": [],
   "source": [
    "\n",
    "filename = path.join(mkdtemp(), 'newfile.dat')\n",
    "fp = np.memmap(filename, dtype='float32', mode='w+', shape=(10,4))\n"
   ]
  },
  {
   "cell_type": "code",
   "execution_count": null,
   "metadata": {},
   "outputs": [],
   "source": [
    "%%timeit -r 1\n",
    "for i in range(len(fp)):\n",
    "    assign_position(i, fp)"
   ]
  },
  {
   "cell_type": "code",
   "execution_count": 8,
   "metadata": {},
   "outputs": [],
   "source": [
    "from multiprocess_try import multiprocess_map"
   ]
  },
  {
   "cell_type": "code",
   "execution_count": 6,
   "metadata": {},
   "outputs": [
    {
     "name": "stdout",
     "output_type": "stream",
     "text": [
      "\u001b[33mWARNING: Ignoring invalid distribution -andas (/home/ai/.pyenv/versions/3.7.9/lib/python3.7/site-packages)\u001b[0m\n",
      "\u001b[33mWARNING: Ignoring invalid distribution -andas (/home/ai/.pyenv/versions/3.7.9/lib/python3.7/site-packages)\u001b[0m\n",
      "Collecting psutil\n",
      "  Downloading psutil-5.8.0-cp37-cp37m-manylinux2010_x86_64.whl (296 kB)\n",
      "\u001b[K     |████████████████████████████████| 296 kB 1.1 MB/s eta 0:00:01\n",
      "\u001b[33mWARNING: Ignoring invalid distribution -andas (/home/ai/.pyenv/versions/3.7.9/lib/python3.7/site-packages)\u001b[0m\n",
      "\u001b[?25hInstalling collected packages: psutil\n",
      "\u001b[33mWARNING: Ignoring invalid distribution -andas (/home/ai/.pyenv/versions/3.7.9/lib/python3.7/site-packages)\u001b[0m\n",
      "Successfully installed psutil-5.8.0\n",
      "\u001b[33mWARNING: Ignoring invalid distribution -andas (/home/ai/.pyenv/versions/3.7.9/lib/python3.7/site-packages)\u001b[0m\n",
      "\u001b[33mWARNING: Ignoring invalid distribution -andas (/home/ai/.pyenv/versions/3.7.9/lib/python3.7/site-packages)\u001b[0m\n"
     ]
    }
   ],
   "source": [
    "!pip install psutil"
   ]
  },
  {
   "cell_type": "code",
   "execution_count": null,
   "metadata": {},
   "outputs": [],
   "source": [
    "%%timeit -r 1\n",
    "ans = multiprocess_map(assign_position, fp)"
   ]
  },
  {
   "cell_type": "code",
   "execution_count": null,
   "metadata": {},
   "outputs": [],
   "source": [
    "fp"
   ]
  },
  {
   "cell_type": "code",
   "execution_count": null,
   "metadata": {},
   "outputs": [],
   "source": [
    "import os\n",
    "os.cpu_count()"
   ]
  },
  {
   "cell_type": "code",
   "execution_count": null,
   "metadata": {},
   "outputs": [],
   "source": []
  },
  {
   "cell_type": "code",
   "execution_count": null,
   "metadata": {},
   "outputs": [],
   "source": []
  }
 ],
 "metadata": {
  "kernelspec": {
   "display_name": "Python 3",
   "language": "python",
   "name": "python3"
  },
  "language_info": {
   "codemirror_mode": {
    "name": "ipython",
    "version": 3
   },
   "file_extension": ".py",
   "mimetype": "text/x-python",
   "name": "python",
   "nbconvert_exporter": "python",
   "pygments_lexer": "ipython3",
   "version": "3.7.9"
  }
 },
 "nbformat": 4,
 "nbformat_minor": 4
}
